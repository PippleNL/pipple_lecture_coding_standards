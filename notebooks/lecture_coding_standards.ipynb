{
  "nbformat": 4,
  "nbformat_minor": 0,
  "metadata": {
    "colab": {
      "name": "lecture-coding-standards.ipynb",
      "provenance": [],
      "collapsed_sections": []
    },
    "kernelspec": {
      "name": "python3",
      "display_name": "Python 3"
    }
  },
  "cells": [
    {
      "cell_type": "markdown",
      "metadata": {
        "id": "StsXvhCSb_1q"
      },
      "source": [
        "# Pipple Lecture Coding Standards\n",
        "\n",
        "## Introduction\n",
        "This lecture gives a brief introduction on coding standards.\n",
        "For a more practical approach we will be using a small case, in which multiple teams can collabarate on the same project and in the end make one large working project.\n",
        "\n",
        "The assignment:\n",
        "We want to be able to query the available subreddits on Reddit and within these subreddits we want to know how lively these are.\n",
        "Therefore we need to know \n",
        "\n",
        "We have divided programming \n",
        "- We are going to create an API which can \n",
        "\n",
        "## Initialisation\n",
        "### Google Drive\n",
        "To store additional files and data we will use Google Drive within our virtual machine in Google Colab.\n"
      ]
    },
    {
      "cell_type": "markdown",
      "metadata": {
        "id": "q9TG2yo77iai"
      },
      "source": [
        "## Introduction\n",
        "This lecture gives a brief introduction on coding standards. For a more practical approach we will be using a small case, in which multiple teams can collabarate on the same project and in the end make one large working project.\n",
        "\n",
        "The assignment: We want to be able to query the available subreddits on Reddit and within these subreddits we want to know how actively they are being used.\n",
        "\n",
        "In order to achieve this project, we will create several tasks within this project, each team will be responsible for creating their part.\n"
      ]
    },
    {
      "cell_type": "markdown",
      "metadata": {
        "id": "CAG4aWCB7dUS"
      },
      "source": [
        "## Initiliazation"
      ]
    },
    {
      "cell_type": "markdown",
      "metadata": {
        "id": "MgE1PwUBw1Pf"
      },
      "source": [
        "### Github repository\n",
        "For this lecture, a Github repositroy has been created.\n",
        "In order to use all files within this repository, we can clone the repository within the Virtual Machine of Google Colab:"
      ]
    },
    {
      "cell_type": "code",
      "metadata": {
        "id": "15IRAWOWqKJw",
        "cellView": "form"
      },
      "source": [
        "#@title\n",
        "# %%sh\n",
        "# # RESET FOLDERS\n",
        "# if [ -d \"/content/projects/pipple_lecture_coding_standards\" ]\n",
        "# then\n",
        "#   echo \"Folder exists.\"\n",
        "#   echo \"Removing /content/projects/pipple_lectures_coding_standards.\"\n",
        "#   rm -R /content/projects/pipple_lecture_coding_standards/\n",
        "# else\n",
        "#   echo \"Folder does not exist.\"\n",
        "#   echo \"Not removing /content/projects/pipple_lecutres_coding_standards.\"\n",
        "# fi\n",
        "# echo \"Done.\""
      ],
      "execution_count": null,
      "outputs": []
    },
    {
      "cell_type": "code",
      "metadata": {
        "id": "Im9DY6JucLTv",
        "outputId": "7abc2210-6eda-4fab-e273-bedff5b8a0a6",
        "colab": {
          "base_uri": "https://localhost:8080/",
          "height": 153
        }
      },
      "source": [
        "%%sh\n",
        "# Create a directory in which we are going to clone the repository\n",
        "if [ ! -d \"/content/projects\" ]\n",
        "then\n",
        "  echo \"Folder /content/projects does not exits.\"\n",
        "  echo \"Creating /content/projects\"\n",
        "  mkdir -p \"/content/projects\"\n",
        "fi\n",
        "\n",
        "echo \"Changing Directory to /content/projects.\"\n",
        "cd \"/content/projects\"\n",
        "\n",
        "if [ ! -d \"/content/projects/pipple_lecture_coding_standards\" ]\n",
        "then\n",
        "  echo \"Local repository does not exist.\"\n",
        "  echo \"Cloning repo into /content/projects/pipple_lecture_coding_standards.\"\n",
        "  git clone https://github.com/PippleNL/pipple_lecture_coding_standards.git\n",
        "  echo \"Changing working directory to \\\n",
        "/content/projects/pipple_lecture_coding_standards.\"\n",
        "  cd pipple_lecture_coding_standards\n",
        "else\n",
        "  echo \"Local repository exists.\"\n",
        "  cd pipple_lecture_coding_standards\n",
        "  echo \"Changing branch to master.\"\n",
        "  git checkout main\n",
        "  echo \"Pulling latest version master.\"\n",
        "  git pull origin\n",
        "fi\n",
        "echo \"Done.\""
      ],
      "execution_count": 2,
      "outputs": [
        {
          "output_type": "stream",
          "text": [
            "Folder /content/projects does not exits.\n",
            "Creating /content/projects\n",
            "Changing Directory to /content/projects.\n",
            "Local repository does not exist.\n",
            "Cloning repo into /content/projects/pipple_lecture_coding_standards.\n",
            "Changing working directory to /content/projects/pipple_lecture_coding_standards.\n",
            "Done.\n"
          ],
          "name": "stdout"
        },
        {
          "output_type": "stream",
          "text": [
            "Cloning into 'pipple_lecture_coding_standards'...\n"
          ],
          "name": "stderr"
        }
      ]
    },
    {
      "cell_type": "code",
      "metadata": {
        "id": "Pkfx4PJ46nKn",
        "outputId": "8ab7ada3-cc02-4cc3-cf93-d2d11b929c5f",
        "colab": {
          "base_uri": "https://localhost:8080/",
          "height": 34
        }
      },
      "source": [
        "!ls ./projects/pipple_lecture_coding_standards"
      ],
      "execution_count": null,
      "outputs": [
        {
          "output_type": "stream",
          "text": [
            "app  Dockerfile  __init__.py  LICENSE  notebooks  README.md  requirements.txt\n"
          ],
          "name": "stdout"
        }
      ]
    },
    {
      "cell_type": "code",
      "metadata": {
        "id": "1afV602n1tH0",
        "outputId": "f19712cd-da04-420a-daef-4782d034fe35",
        "colab": {
          "base_uri": "https://localhost:8080/",
          "height": 1000
        }
      },
      "source": [
        "!python -m pip install -r /content/projects/pipple_lecture_coding_standards/requirements.txt"
      ],
      "execution_count": 4,
      "outputs": [
        {
          "output_type": "stream",
          "text": [
            "Requirement already satisfied: certifi==2020.6.20 in /usr/local/lib/python3.6/dist-packages (from -r /content/projects/pipple_lecture_coding_standards/requirements.txt (line 1)) (2020.6.20)\n",
            "Requirement already satisfied: chardet==3.0.4 in /usr/local/lib/python3.6/dist-packages (from -r /content/projects/pipple_lecture_coding_standards/requirements.txt (line 2)) (3.0.4)\n",
            "Collecting fastapi==0.61.1\n",
            "\u001b[?25l  Downloading https://files.pythonhosted.org/packages/48/65/454fb440d48098845875b5ba8599efafee1efabb97720a584c78674e6d26/fastapi-0.61.1-py3-none-any.whl (48kB)\n",
            "\u001b[K     |████████████████████████████████| 51kB 1.5MB/s \n",
            "\u001b[?25hCollecting feedparser==6.0.1\n",
            "\u001b[?25l  Downloading https://files.pythonhosted.org/packages/2c/84/df6de99cba01afc82344c9cb3a79df100a00ac33396120f8aa66c72f0d84/feedparser-6.0.1-py2.py3-none-any.whl (80kB)\n",
            "\u001b[K     |████████████████████████████████| 81kB 3.7MB/s \n",
            "\u001b[?25hCollecting folium==0.2.1\n",
            "\u001b[?25l  Downloading https://files.pythonhosted.org/packages/72/dd/75ced7437bfa7cb9a88b96ee0177953062803c3b4cde411a97d98c35adaf/folium-0.2.1.tar.gz (69kB)\n",
            "\u001b[K     |████████████████████████████████| 71kB 5.1MB/s \n",
            "\u001b[?25hRequirement already satisfied: idna==2.10 in /usr/local/lib/python3.6/dist-packages (from -r /content/projects/pipple_lecture_coding_standards/requirements.txt (line 6)) (2.10)\n",
            "Collecting imgaug<0.2.7\n",
            "\u001b[?25l  Downloading https://files.pythonhosted.org/packages/ad/2e/748dbb7bb52ec8667098bae9b585f448569ae520031932687761165419a2/imgaug-0.2.6.tar.gz (631kB)\n",
            "\u001b[K     |████████████████████████████████| 634kB 8.0MB/s \n",
            "\u001b[?25hRequirement already satisfied: numpy<1.19.0 in /usr/local/lib/python3.6/dist-packages (from -r /content/projects/pipple_lecture_coding_standards/requirements.txt (line 8)) (1.18.5)\n",
            "Collecting pandas==1.1.3\n",
            "\u001b[?25l  Downloading https://files.pythonhosted.org/packages/a2/21/e10d65222d19a2537e3eb0df306686a9eabd08b3c98dd120e43720bf802d/pandas-1.1.3-cp36-cp36m-manylinux1_x86_64.whl (9.5MB)\n",
            "\u001b[K     |████████████████████████████████| 9.5MB 12.0MB/s \n",
            "\u001b[?25hCollecting pydantic==1.6.1\n",
            "\u001b[?25l  Downloading https://files.pythonhosted.org/packages/aa/5f/855412ad12817ae87f1c77d3af2fc384eaed3adfb8f3994816d75483fa20/pydantic-1.6.1-cp36-cp36m-manylinux2014_x86_64.whl (8.7MB)\n",
            "\u001b[K     |████████████████████████████████| 8.7MB 47.7MB/s \n",
            "\u001b[?25hRequirement already satisfied: python-dateutil==2.8.1 in /usr/local/lib/python3.6/dist-packages (from -r /content/projects/pipple_lecture_coding_standards/requirements.txt (line 11)) (2.8.1)\n",
            "Collecting pytz==2020.1\n",
            "\u001b[?25l  Downloading https://files.pythonhosted.org/packages/4f/a4/879454d49688e2fad93e59d7d4efda580b783c745fd2ec2a3adf87b0808d/pytz-2020.1-py2.py3-none-any.whl (510kB)\n",
            "\u001b[K     |████████████████████████████████| 512kB 46.5MB/s \n",
            "\u001b[?25hRequirement already satisfied: requests==2.23.0 in /usr/local/lib/python3.6/dist-packages (from -r /content/projects/pipple_lecture_coding_standards/requirements.txt (line 13)) (2.23.0)\n",
            "Collecting sgmllib3k==1.0.0\n",
            "  Downloading https://files.pythonhosted.org/packages/9e/bd/3704a8c3e0942d711c1299ebf7b9091930adae6675d7c8f476a7ce48653c/sgmllib3k-1.0.0.tar.gz\n",
            "Requirement already satisfied: six==1.15.0 in /usr/local/lib/python3.6/dist-packages (from -r /content/projects/pipple_lecture_coding_standards/requirements.txt (line 15)) (1.15.0)\n",
            "Collecting starlette==0.13.6\n",
            "\u001b[?25l  Downloading https://files.pythonhosted.org/packages/c5/a4/c9e228d7d47044ce4c83ba002f28ff479e542455f0499198a3f77c94f564/starlette-0.13.6-py3-none-any.whl (59kB)\n",
            "\u001b[K     |████████████████████████████████| 61kB 7.1MB/s \n",
            "\u001b[?25hRequirement already satisfied: urllib3<1.25 in /usr/local/lib/python3.6/dist-packages (from -r /content/projects/pipple_lecture_coding_standards/requirements.txt (line 17)) (1.24.3)\n",
            "Collecting uvicorn==0.12.2\n",
            "\u001b[?25l  Downloading https://files.pythonhosted.org/packages/30/cc/01cc4cb980dfcf04eb283b6497c7f280928a0b02c68c0f85b6901e7716ae/uvicorn-0.12.2-py3-none-any.whl (45kB)\n",
            "\u001b[K     |████████████████████████████████| 51kB 6.7MB/s \n",
            "\u001b[?25hRequirement already satisfied: Jinja2 in /usr/local/lib/python3.6/dist-packages (from folium==0.2.1->-r /content/projects/pipple_lecture_coding_standards/requirements.txt (line 5)) (2.11.2)\n",
            "Requirement already satisfied: scipy in /usr/local/lib/python3.6/dist-packages (from imgaug<0.2.7->-r /content/projects/pipple_lecture_coding_standards/requirements.txt (line 7)) (1.4.1)\n",
            "Requirement already satisfied: scikit-image>=0.11.0 in /usr/local/lib/python3.6/dist-packages (from imgaug<0.2.7->-r /content/projects/pipple_lecture_coding_standards/requirements.txt (line 7)) (0.16.2)\n",
            "Requirement already satisfied: dataclasses>=0.6; python_version < \"3.7\" in /usr/local/lib/python3.6/dist-packages (from pydantic==1.6.1->-r /content/projects/pipple_lecture_coding_standards/requirements.txt (line 10)) (0.7)\n",
            "Requirement already satisfied: typing-extensions; python_version < \"3.8\" in /usr/local/lib/python3.6/dist-packages (from uvicorn==0.12.2->-r /content/projects/pipple_lecture_coding_standards/requirements.txt (line 18)) (3.7.4.3)\n",
            "Requirement already satisfied: click==7.* in /usr/local/lib/python3.6/dist-packages (from uvicorn==0.12.2->-r /content/projects/pipple_lecture_coding_standards/requirements.txt (line 18)) (7.1.2)\n",
            "Collecting h11>=0.8\n",
            "\u001b[?25l  Downloading https://files.pythonhosted.org/packages/b2/79/9c5f5cd738ec2a9b26453b3093915c0999f24454e2773921025c03b5509e/h11-0.11.0-py2.py3-none-any.whl (54kB)\n",
            "\u001b[K     |████████████████████████████████| 61kB 5.4MB/s \n",
            "\u001b[?25hRequirement already satisfied: MarkupSafe>=0.23 in /usr/local/lib/python3.6/dist-packages (from Jinja2->folium==0.2.1->-r /content/projects/pipple_lecture_coding_standards/requirements.txt (line 5)) (1.1.1)\n",
            "Requirement already satisfied: networkx>=2.0 in /usr/local/lib/python3.6/dist-packages (from scikit-image>=0.11.0->imgaug<0.2.7->-r /content/projects/pipple_lecture_coding_standards/requirements.txt (line 7)) (2.5)\n",
            "Requirement already satisfied: PyWavelets>=0.4.0 in /usr/local/lib/python3.6/dist-packages (from scikit-image>=0.11.0->imgaug<0.2.7->-r /content/projects/pipple_lecture_coding_standards/requirements.txt (line 7)) (1.1.1)\n",
            "Requirement already satisfied: matplotlib!=3.0.0,>=2.0.0 in /usr/local/lib/python3.6/dist-packages (from scikit-image>=0.11.0->imgaug<0.2.7->-r /content/projects/pipple_lecture_coding_standards/requirements.txt (line 7)) (3.2.2)\n",
            "Requirement already satisfied: pillow>=4.3.0 in /usr/local/lib/python3.6/dist-packages (from scikit-image>=0.11.0->imgaug<0.2.7->-r /content/projects/pipple_lecture_coding_standards/requirements.txt (line 7)) (7.0.0)\n",
            "Requirement already satisfied: imageio>=2.3.0 in /usr/local/lib/python3.6/dist-packages (from scikit-image>=0.11.0->imgaug<0.2.7->-r /content/projects/pipple_lecture_coding_standards/requirements.txt (line 7)) (2.4.1)\n",
            "Requirement already satisfied: decorator>=4.3.0 in /usr/local/lib/python3.6/dist-packages (from networkx>=2.0->scikit-image>=0.11.0->imgaug<0.2.7->-r /content/projects/pipple_lecture_coding_standards/requirements.txt (line 7)) (4.4.2)\n",
            "Requirement already satisfied: pyparsing!=2.0.4,!=2.1.2,!=2.1.6,>=2.0.1 in /usr/local/lib/python3.6/dist-packages (from matplotlib!=3.0.0,>=2.0.0->scikit-image>=0.11.0->imgaug<0.2.7->-r /content/projects/pipple_lecture_coding_standards/requirements.txt (line 7)) (2.4.7)\n",
            "Requirement already satisfied: cycler>=0.10 in /usr/local/lib/python3.6/dist-packages (from matplotlib!=3.0.0,>=2.0.0->scikit-image>=0.11.0->imgaug<0.2.7->-r /content/projects/pipple_lecture_coding_standards/requirements.txt (line 7)) (0.10.0)\n",
            "Requirement already satisfied: kiwisolver>=1.0.1 in /usr/local/lib/python3.6/dist-packages (from matplotlib!=3.0.0,>=2.0.0->scikit-image>=0.11.0->imgaug<0.2.7->-r /content/projects/pipple_lecture_coding_standards/requirements.txt (line 7)) (1.2.0)\n",
            "Building wheels for collected packages: folium, imgaug, sgmllib3k\n",
            "  Building wheel for folium (setup.py) ... \u001b[?25l\u001b[?25hdone\n",
            "  Created wheel for folium: filename=folium-0.2.1-cp36-none-any.whl size=79980 sha256=d4517d4b3588af25e3b1e2549c8db64864f5a7155b33a4e988a1822ceb1b1f20\n",
            "  Stored in directory: /root/.cache/pip/wheels/b8/09/f0/52d2ef419c2aaf4fb149f92a33e0008bdce7ae816f0dd8f0c5\n",
            "  Building wheel for imgaug (setup.py) ... \u001b[?25l\u001b[?25hdone\n",
            "  Created wheel for imgaug: filename=imgaug-0.2.6-cp36-none-any.whl size=654021 sha256=9f2a4db9fccbb5743501ab0066fe9b4e8aadd1acca4b5de8c411516b176607cf\n",
            "  Stored in directory: /root/.cache/pip/wheels/97/ec/48/0d25896c417b715af6236dbcef8f0bed136a1a5e52972fc6d0\n",
            "  Building wheel for sgmllib3k (setup.py) ... \u001b[?25l\u001b[?25hdone\n",
            "  Created wheel for sgmllib3k: filename=sgmllib3k-1.0.0-cp36-none-any.whl size=6067 sha256=093d7feeed88e7d8e9c57b667c0f8aeb80997a348dd029efee3f6caef2a94f0f\n",
            "  Stored in directory: /root/.cache/pip/wheels/f1/80/5a/444ba08a550cdd241bd9baf8bae44be750efe370adb944506a\n",
            "Successfully built folium imgaug sgmllib3k\n",
            "Installing collected packages: starlette, pydantic, fastapi, sgmllib3k, feedparser, folium, imgaug, pytz, pandas, h11, uvicorn\n",
            "  Found existing installation: folium 0.8.3\n",
            "    Uninstalling folium-0.8.3:\n",
            "      Successfully uninstalled folium-0.8.3\n",
            "  Found existing installation: imgaug 0.2.9\n",
            "    Uninstalling imgaug-0.2.9:\n",
            "      Successfully uninstalled imgaug-0.2.9\n",
            "  Found existing installation: pytz 2018.9\n",
            "    Uninstalling pytz-2018.9:\n",
            "      Successfully uninstalled pytz-2018.9\n",
            "  Found existing installation: pandas 1.1.2\n",
            "    Uninstalling pandas-1.1.2:\n",
            "      Successfully uninstalled pandas-1.1.2\n",
            "Successfully installed fastapi-0.61.1 feedparser-6.0.1 folium-0.2.1 h11-0.11.0 imgaug-0.2.6 pandas-1.1.3 pydantic-1.6.1 pytz-2020.1 sgmllib3k-1.0.0 starlette-0.13.6 uvicorn-0.12.2\n"
          ],
          "name": "stdout"
        }
      ]
    },
    {
      "cell_type": "markdown",
      "metadata": {
        "id": "XMtkcXo50Tvv"
      },
      "source": [
        "## Case\n",
        "In this lecture we will try to make an API and host it locally on this Virtual Machine.\n",
        "\n",
        "The API will contain four different endpoints (GET), namely:\n",
        "1.  /reddit\n",
        "2.  /reddit_cat_count\n",
        "3.  /pi_generator\n",
        "4.  /area\n",
        "\n",
        "Each member of a group can make one endpoint individually or the team can work on all four simultaneously.\n",
        "\n",
        "Feel free to add additional features to the APIs or coding.\n"
      ]
    },
    {
      "cell_type": "markdown",
      "metadata": {
        "id": "WkskRxvI2KvY"
      },
      "source": [
        "### Repository\n",
        "The repository can be found at /content/projects/pipple_lecture_coding_standards.\n",
        "Within the project we already have several directories and folders, however, not complete.\n",
        "Your task is to complete the repositories such that all four APIs work.\n",
        "\n",
        "These files can be opened by clicking on them in the files section at the left."
      ]
    },
    {
      "cell_type": "markdown",
      "metadata": {
        "id": "vGjGjj0b1KPM"
      },
      "source": [
        "### API 1 : reddit\n",
        "The first API will retreive all items from the newsfeed of Reddit, which can be accessed via the following code:\n"
      ]
    },
    {
      "cell_type": "code",
      "metadata": {
        "id": "joPzyuIB1nPc",
        "outputId": "ebf29a9d-12c7-4227-a42f-2a9149927464",
        "colab": {
          "base_uri": "https://localhost:8080/",
          "height": 442
        }
      },
      "source": [
        "import feedparser\n",
        "news_feed = feedparser.parse(\"https://www.reddit.com/r/news/.rss\")\n",
        "titles = [entry.title for entry in news_feed.entries]\n",
        "display(titles)"
      ],
      "execution_count": null,
      "outputs": [
        {
          "output_type": "display_data",
          "data": {
            "text/plain": [
              "['California drivers sue Uber over in-app messages asking to support ballot measure',\n",
              " 'North Carolina man arrested after he’s discovered with guns, explosives in plot to assassinate Joe Biden',\n",
              " 'Trucker who drove through George Floyd protesters is charged',\n",
              " 'White supremacists behind majority of US domestic terror attacks in 2020',\n",
              " 'Faulty US Covid-19 response meant 130,000 to 210,000 avoidable deaths, report finds',\n",
              " 'Ghislaine Maxwell transcripts revealed in Jeffrey Epstein sex abuse case',\n",
              " 'Texas airman is arrested, charged with uploading child pornography',\n",
              " 'U.S. Postal Service has delivered more than 100 mln ballots',\n",
              " 'Walmart files lawsuit seeking to prove its pharmacists are not responsible for opioid crisis',\n",
              " \"Judge drops third-degree murder charge against former officer Derek Chauvin in George Floyd's death\",\n",
              " 'Australian police arrest 44 men and rescue 16 children in child abuse investigation',\n",
              " 'Arkansas Senate candidate dismissed from high school over KKK costume, records show',\n",
              " 'Russia grants whistleblower Edward Snowden permanent residency rights: TASS',\n",
              " 'White supremacist group talked about paramilitary training in secret vetting calls',\n",
              " 'NYC to join Seattle, Portland in suit over federal funding',\n",
              " \"Exclusive: 'Dumb mistake’ exposed Iranian hand behind fake Proud Boy U.S. election emails - sources\",\n",
              " 'Putin: Russia-China military alliance can’t be ruled out',\n",
              " \"US Ice officers 'used torture to make Africans sign own deportation orders'\",\n",
              " 'Mississippi asks Supreme Court again to review its 15-week abortion ban',\n",
              " 'Deaths, hospitalizations and at least 68 COVID-19 cases after weeklong church event',\n",
              " \"FDA approves Gilead's remdesivir as coronavirus treatment\",\n",
              " 'The US topped 1,000 daily Covid-19 deaths and experts worry the worst of the fall surge is yet to come',\n",
              " 'Video shows off-duty cop push woman at Jersey Shore bar. Fellow cops accused of making a scene.',\n",
              " \"Coronavirus pandemic is causing 'unacceptable' shortages in US drug supplies, report says\",\n",
              " 'Coke is canceling 200 drink brands']"
            ]
          },
          "metadata": {
            "tags": []
          }
        }
      ]
    },
    {
      "cell_type": "markdown",
      "metadata": {
        "id": "OdHcUT2x8-p4"
      },
      "source": [
        "### API 2 : reddit_cat_count\n",
        "In this API, the previous endpoint will be used to get the number of items in the newsfeed. The endpoint returns the number of items in the list of categories."
      ]
    },
    {
      "cell_type": "markdown",
      "metadata": {
        "id": "vLw4q_M09ZGP"
      },
      "source": [
        "### API 3 : pi_generator\n",
        "This API will return an approximation of pi, by using the following link:\n",
        "https://uploadbeta.com/api/pi/?cached&n=4\n",
        "Where the number after n= gives the number of digits.\n",
        "\n",
        "In our API, the user can give the number of digits she/he wants by making a request to:\n",
        "/pi_generator/{number_of_digits}\n",
        "for instance:\n",
        "-  /pi_generator/3 - returns {pi_dec: 3.14}\n",
        "-  /pi_generator/2 - returns {pi_dec: 3.1}"
      ]
    },
    {
      "cell_type": "markdown",
      "metadata": {
        "id": "ObDjS3qs-SLm"
      },
      "source": [
        "### API 4 : area\n",
        "By using API 3 calculate the area of a circle with radius r.\n",
        "The radius is given by the user of the API in the following manner:\n",
        "/area/{r}\n",
        "\n",
        "For example:\n",
        "/area/1 - returns 3.14"
      ]
    },
    {
      "cell_type": "markdown",
      "metadata": {
        "id": "QFtKCvmhAsBJ"
      },
      "source": [
        "## Testing\n",
        "By using the following commands we can run the API locally and test whether we receive the correct output."
      ]
    },
    {
      "cell_type": "markdown",
      "metadata": {
        "id": "rchF7ofLGPBX"
      },
      "source": [
        "Create a new file in /content named run_api.sh, with the following code:\n",
        "\n",
        "cd /content/projects/pipple_lecture_coding_standards\n",
        "\n",
        "uvicorn app.main:app --reload"
      ]
    },
    {
      "cell_type": "code",
      "metadata": {
        "id": "oC6M8OUpDft0"
      },
      "source": [
        "# change permissions\n",
        "!chmod 777 /content/run_api.sh"
      ],
      "execution_count": null,
      "outputs": []
    },
    {
      "cell_type": "code",
      "metadata": {
        "id": "U07zY3UgA3i7",
        "outputId": "b1cf0865-0908-4b47-ecd4-0c6b78326912",
        "colab": {
          "base_uri": "https://localhost:8080/",
          "height": 34
        }
      },
      "source": [
        "# run API\n",
        "!nohup /content/run_api.sh & > /content/nohup.out"
      ],
      "execution_count": 27,
      "outputs": [
        {
          "output_type": "stream",
          "text": [
            "nohup: appending output to 'nohup.out'\n"
          ],
          "name": "stdout"
        }
      ]
    },
    {
      "cell_type": "code",
      "metadata": {
        "id": "-2QUes8eBuSz"
      },
      "source": [
        "import requests\n",
        "url_reddit = 'http://127.0.0.1:8000/reddit'\n",
        "response_reddit = requests.get(url_reddit)\n",
        "url_red_cat = 'http://127.0.0.1:8000/reddit_cat_count'\n",
        "response_red_cat = requests.get(url_red_cat)\n",
        "url_pi = 'http://127.0.0.1:8000/pi_generator/10'\n",
        "response_pi = requests.get(url_pi)\n",
        "url_area = 'http://127.0.0.1:8000/area/5'\n",
        "response_area = requests.get(url_area)"
      ],
      "execution_count": null,
      "outputs": []
    },
    {
      "cell_type": "markdown",
      "metadata": {
        "id": "Es3cr1HeGq8q"
      },
      "source": [
        "## End\n",
        "Send your files to ruud@pipple.nl or upload the files to a git-repository and send the link to ruud@pipple.nl\n",
        "\n",
        "We will compare the results and declare a winner of the assignment."
      ]
    }
  ]
}