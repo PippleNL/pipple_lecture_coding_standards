{
  "nbformat": 4,
  "nbformat_minor": 0,
  "metadata": {
    "colab": {
      "name": "lecture-coding-standards.ipynb",
      "provenance": [],
      "collapsed_sections": [],
      "toc_visible": true
    },
    "kernelspec": {
      "name": "python3",
      "display_name": "Python 3"
    }
  },
  "cells": [
    {
      "cell_type": "markdown",
      "metadata": {
        "id": "StsXvhCSb_1q"
      },
      "source": [
        "# Pipple Lecture Coding Standards\n",
        "\n",
        "## Introduction\n",
        "This lecture gives a brief introduction on coding standards.\n",
        "For a more practical approach we will be using a small case, in which multiple teams can collabarate on the same project and in the end make one large working project.\n",
        "\n",
        "The assignment:\n",
        "We want to be able to query the available subreddits on Reddit and within these subreddits we want to know how lively these are.\n",
        "Therefore we need to know \n",
        "\n",
        "We have divided programming \n",
        "- We are going to create an API which can \n",
        "\n",
        "## Initialisation\n",
        "### Google Drive\n",
        "To store additional files and data we will use Google Drive within our virtual machine in Google Colab.\n"
      ]
    },
    {
      "cell_type": "markdown",
      "metadata": {
        "id": "q9TG2yo77iai"
      },
      "source": [
        "## Introduction\n",
        "This lecture gives a brief introduction on coding standards. For a more practical approach we will be using a small case, in which multiple teams can collabarate on the same project and in the end make one large working project.\n",
        "\n",
        "The assignment: We want to be able to query the available subreddits on Reddit and within these subreddits we want to know how actively they are being used.\n",
        "\n",
        "In order to achieve this project, we will create several tasks within this project, each team will be responsible for creating their part.\n"
      ]
    },
    {
      "cell_type": "markdown",
      "metadata": {
        "id": "CAG4aWCB7dUS"
      },
      "source": [
        "## Initiliazation"
      ]
    },
    {
      "cell_type": "markdown",
      "metadata": {
        "id": "23ZLEmZX8dX3"
      },
      "source": [
        "### Google Drive\n",
        "To store additional files and data we will use Google Drive within our virtual machine in Google Colab:"
      ]
    },
    {
      "cell_type": "code",
      "metadata": {
        "id": "dJsKAJ_7w0x1"
      },
      "source": [
        "from google.colab import drive\n",
        "drive.mount('/content/drive')"
      ],
      "execution_count": null,
      "outputs": []
    },
    {
      "cell_type": "markdown",
      "metadata": {
        "id": "MgE1PwUBw1Pf"
      },
      "source": [
        "### Github repository\n",
        "For this lecture, a Github repositroy has been created.\n",
        "In order to use all files within this repository, we can clone the repository within the Virtual Machine of Google Colab:"
      ]
    },
    {
      "cell_type": "code",
      "metadata": {
        "id": "15IRAWOWqKJw",
        "cellView": "form"
      },
      "source": [
        "#@title\n",
        "# %%sh\n",
        "# # RESET FOLDERS\n",
        "# if [ -d \"/content/projects/pipple_lecture_coding_standards\" ]\n",
        "# then\n",
        "#   echo \"Folder exists.\"\n",
        "#   echo \"Removing /content/projects/pipple_lectures_coding_standards.\"\n",
        "#   rm -R /content/projects/pipple_lecture_coding_standards/\n",
        "# else\n",
        "#   echo \"Folder does not exist.\"\n",
        "#   echo \"Not removing /content/projects/pipple_lecutres_coding_standards.\"\n",
        "# fi\n",
        "# echo \"Done.\""
      ],
      "execution_count": null,
      "outputs": []
    },
    {
      "cell_type": "code",
      "metadata": {
        "id": "Im9DY6JucLTv"
      },
      "source": [
        "%%sh\n",
        "# Create a directory in which we are going to clone the repository\n",
        "if [ ! -d \"/content/projects\" ]\n",
        "then\n",
        "  echo \"Folder /content/projects does not exits.\"\n",
        "  echo \"Creating /content/projects\"\n",
        "  mkdir -p \"/content/projects\"\n",
        "fi\n",
        "\n",
        "echo \"Changing Directory to /content/projects.\"\n",
        "cd \"/content/projects\"\n",
        "\n",
        "if [ ! -d \"/content/projects/pipple_lecture_coding_standards\" ]\n",
        "then\n",
        "  echo \"Local repository does not exist.\"\n",
        "  echo \"Cloning repo into /content/projects/pipple_lecture_coding_standards.\"\n",
        "  git clone https://github.com/PippleNL/pipple_lecture_coding_standards.git\n",
        "  echo \"Changing working directory to \\\n",
        "/content/projects/pipple_lecture_coding_standards.\"\n",
        "  cd pipple_lecture_coding_standards\n",
        "else\n",
        "  echo \"Local repository exists.\"\n",
        "  cd pipple_lecture_coding_standards\n",
        "  echo \"Changing branch to master.\"\n",
        "  git checkout main\n",
        "  echo \"Pulling latest version master.\"\n",
        "  git pull origin\n",
        "fi\n",
        "echo \"Done.\""
      ],
      "execution_count": null,
      "outputs": []
    },
    {
      "cell_type": "code",
      "metadata": {
        "id": "Pkfx4PJ46nKn"
      },
      "source": [
        "!ls ./projects/pipple_lecture_coding_standards"
      ],
      "execution_count": null,
      "outputs": []
    },
    {
      "cell_type": "code",
      "metadata": {
        "id": "feCp6eJs6vVL"
      },
      "source": [
        ""
      ],
      "execution_count": null,
      "outputs": []
    }
  ]
}